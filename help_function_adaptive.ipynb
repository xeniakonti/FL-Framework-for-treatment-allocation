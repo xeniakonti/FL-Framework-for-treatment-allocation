{
  "nbformat": 4,
  "nbformat_minor": 0,
  "metadata": {
    "colab": {
      "provenance": []
    },
    "kernelspec": {
      "name": "python3",
      "display_name": "Python 3"
    },
    "language_info": {
      "name": "python"
    }
  },
  "cells": [
    {
      "cell_type": "markdown",
      "source": [
        "#Imports\n",
        "\n"
      ],
      "metadata": {
        "id": "VUQhnBQ1h-vO"
      }
    },
    {
      "cell_type": "code",
      "source": [
        "import numpy as np\n",
        "import math\n",
        "from scipy.optimize import linprog\n",
        "import random\n",
        "import matplotlib.pyplot as plt"
      ],
      "metadata": {
        "id": "2o1PHoigiBAZ"
      },
      "execution_count": null,
      "outputs": []
    },
    {
      "cell_type": "code",
      "source": [
        "n_arms = 3\n",
        "#n_arms = 2\n",
        "#hospitals = 3\n",
        "hospitals = 5"
      ],
      "metadata": {
        "id": "pXREOyLxc6KB"
      },
      "execution_count": null,
      "outputs": []
    },
    {
      "cell_type": "markdown",
      "source": [
        "#Update UCB"
      ],
      "metadata": {
        "id": "MBVCcY3Fiy6K"
      }
    },
    {
      "cell_type": "code",
      "source": [
        "def new_ucb(r, N, t, c):\n",
        "  ucb = []\n",
        "  lcb = []\n",
        "  #c = 0.4\n",
        "  for i in range(len(r)):\n",
        "    axu = []\n",
        "    axl = []\n",
        "    for j in range(len(r[0])):\n",
        "      if N[i][j] == 0:\n",
        "        axu.append(1)\n",
        "        axl.append(0)\n",
        "      else:\n",
        "        axu.append(np.min([r[i][j]/N[i][j] + c*math.sqrt(math.log(t[i])/N[i][j]), 1]))\n",
        "        axl.append(np.max([r[i][j]/N[i][j] - c*math.sqrt(math.log(t[i])/N[i][j]), 0]))\n",
        "        #axu.append(np.min([r[i][j]/N[i][j] + 0.5*math.sqrt(math.log(t[i])/N[i][j]), 1]))\n",
        "        #axl.append(np.max([r[i][j]/N[i][j] - 0.5*math.sqrt(math.log(t[i])/N[i][j]), 0]))\n",
        "    ucb.append(axu)\n",
        "    lcb.append(axl)\n",
        "  return ucb, lcb"
      ],
      "metadata": {
        "id": "GXXhOxfRiyZU"
      },
      "execution_count": null,
      "outputs": []
    },
    {
      "cell_type": "code",
      "source": [
        "def new_ucb1(r, N, t, c):\n",
        "  ucb = []\n",
        "  lcb = []\n",
        "  #c = 0.4\n",
        "  for i in range(len(r)):\n",
        "    axu = []\n",
        "    axl = []\n",
        "    for j in range(len(r[0])):\n",
        "      if N[i][j] == 0:\n",
        "        axu.append(1)\n",
        "        axl.append(0)\n",
        "      else:\n",
        "        axu.append(np.min([r[i][j]/N[i][j] + c[i]*math.sqrt(math.log(t[i])/N[i][j]), 1]))\n",
        "        axl.append(np.max([r[i][j]/N[i][j] - c[i]*math.sqrt(math.log(t[i])/N[i][j]), 0]))\n",
        "    ucb.append(axu)\n",
        "    lcb.append(axl)\n",
        "  return ucb, lcb"
      ],
      "metadata": {
        "id": "pKav9r0Fr8iL"
      },
      "execution_count": null,
      "outputs": []
    },
    {
      "cell_type": "markdown",
      "source": [
        "#Update Causal"
      ],
      "metadata": {
        "id": "gCBBIVy-i6De"
      }
    },
    {
      "cell_type": "code",
      "source": [
        "from scipy.optimize import linprog\n",
        "\n",
        "def update_causal(r, N, t, r_h, N_h, t_h, ub, lb, c1):\n",
        "  LCausal = []\n",
        "  UCausal = []\n",
        "  for i in range(n_arms):\n",
        "    l = np.sum(np.array([r[k][i] for k in range(hospitals)]))/np.sum(np.array(t))\n",
        "    u = 1 - (np.sum(np.array([N[k][i] for k in range(hospitals)])) - np.sum(np.array([r[k][i] for k in range(hospitals)])))/np.sum(np.array(t))\n",
        "    LCausal.append(l)\n",
        "    UCausal.append(u)\n",
        "  causal = []\n",
        "  for _ in range(hospitals):\n",
        "    c = []\n",
        "    for _ in range(n_arms):\n",
        "      c.append(1)\n",
        "    causal.append(c)\n",
        "\n",
        "  for a in range(n_arms):\n",
        "    c = []\n",
        "    for _ in range(hospitals):\n",
        "      c.append(0)\n",
        "    for u in range(hospitals):\n",
        "      c[u] = -1\n",
        "      a1 = []\n",
        "      a2 = []\n",
        "      for i in range(hospitals):\n",
        "        a1.append(-t[i]/np.sum(np.array(t)))\n",
        "        a2.append(t[i]/np.sum(np.array(t)))\n",
        "      A = [a1, a2]\n",
        "      b = [-LCausal[a], UCausal[a]]\n",
        "      bounds_of_x = []\n",
        "      ub, lb = new_ucb1(r_h, N_h, t_h, c1)\n",
        "      for h in range(hospitals):\n",
        "        bounds_of_x.append((lb[h][a], ub[h][a]))\n",
        "      res = linprog(c, A_ub=A, b_ub=b, bounds=bounds_of_x)\n",
        "      #causal[u][a] = np.min([res.x[u], ub[u][a]])\n",
        "      causal[u][a] = res.x[u]\n",
        "  return causal"
      ],
      "metadata": {
        "id": "Qfn1PYiUi5yc"
      },
      "execution_count": null,
      "outputs": []
    },
    {
      "cell_type": "markdown",
      "source": [
        "#Server"
      ],
      "metadata": {
        "id": "G6H5eNxmcifo"
      }
    },
    {
      "cell_type": "code",
      "source": [
        "def server_UCB(r, N, t, c):\n",
        "  ucb = []\n",
        "  lcb = []\n",
        "  for j in range(len(r)):\n",
        "    if N[j] == 0:\n",
        "      ucb.append(1)\n",
        "      lcb.append(0)\n",
        "    else:\n",
        "      ucb.append(np.min([r[j]/N[j] + c*math.sqrt(math.log(t)/N[j]), 1]))\n",
        "      lcb.append(np.max([r[j]/N[j] - c*math.sqrt(math.log(t)/N[j]), 0]))\n",
        "  return ucb, lcb"
      ],
      "metadata": {
        "id": "hGliyMtZgOh0"
      },
      "execution_count": null,
      "outputs": []
    },
    {
      "cell_type": "code",
      "execution_count": null,
      "metadata": {
        "id": "FxhF-dJibBOY"
      },
      "outputs": [],
      "source": [
        "def server(r, n, t, c, epsilon):\n",
        "  ucb = []\n",
        "  lcb = []\n",
        "  est_reward = []\n",
        "  for i in range(hospitals):\n",
        "    ax = []\n",
        "    for j in range(n_arms):\n",
        "      if n[i][j] != 0:\n",
        "        ax.append(r[i][j]/n[i][j])\n",
        "      else:\n",
        "        ax.append(1)\n",
        "    est_reward.append(ax)\n",
        "  r_total = []\n",
        "  n_total = []\n",
        "  t_total = []\n",
        "  for i in range(hospitals):\n",
        "    S_h = [i]\n",
        "    for j in range(hospitals):\n",
        "      ind_i = np.argmax(est_reward[i])\n",
        "      arm_i = est_reward[i][ind_i]\n",
        "      if i!=j:\n",
        "        ind_j = np.argmax(est_reward[j])\n",
        "        arm_j = est_reward[j][ind_j]\n",
        "        if ind_i == ind_j and (arm_i - arm_j)**2 < epsilon:\n",
        "          S_h.append(j)\n",
        "    r_h = []\n",
        "    n_h = []\n",
        "    t_h = 0\n",
        "    for j in range(n_arms):\n",
        "      rew = 0\n",
        "      num = 0\n",
        "      for i in S_h:\n",
        "        rew += r[i][j]\n",
        "        num += n[i][j]\n",
        "        t_h += n[i][j]\n",
        "      r_h.append(rew)\n",
        "      n_h.append(num)\n",
        "    r_total.append(r_h)\n",
        "    n_total.append(n_h)\n",
        "    t_total.append(t_h)\n",
        "    ucb_h, lcb_h = server_UCB(r_h, n_h, t_h, c)\n",
        "    ucb.append(ucb_h)\n",
        "    lcb.append(lcb_h)\n",
        "  return ucb, lcb, r_total, n_total, t_total"
      ]
    },
    {
      "cell_type": "markdown",
      "source": [
        "#Train"
      ],
      "metadata": {
        "id": "N0jUgGsgjFxH"
      }
    },
    {
      "cell_type": "code",
      "source": [
        "def train_adaptive(c, pi, responses, rewards, timesteps, bool_causal, bool_adaptive, epsilon = 0, c1 = 0):\n",
        "  prob_explore = 0.5\n",
        "  succ = []\n",
        "  estimated_reward = []\n",
        "  success = []\n",
        "  times = []\n",
        "  for i in range(hospitals):\n",
        "    estimated_reward.append([])\n",
        "    success.append([])\n",
        "    succ.append(0)\n",
        "    times.append(0)\n",
        "  ucb_list = []\n",
        "  lcb_list = []\n",
        "  ucb = []\n",
        "  lcb = []\n",
        "  u_causal = []\n",
        "  l_causal =  []\n",
        "  u_causal_list = []\n",
        "  l_causal_list = []\n",
        "  #############\n",
        "  u_caus_seq = []\n",
        "  l_caus_seq = []\n",
        "  ############\n",
        "  regret = []\n",
        "  r = []\n",
        "  N = []\n",
        "  t = []\n",
        "  index = []\n",
        "  reg = []\n",
        "  ###############\n",
        "  for i in range(hospitals):\n",
        "    u = []\n",
        "    l = []\n",
        "    u_list = []\n",
        "    l_list = []\n",
        "    for j in range(n_arms):\n",
        "      u.append([])\n",
        "      l.append([])\n",
        "      u_list.append([1])\n",
        "      l_list.append([0])\n",
        "    u_caus_seq.append(u)\n",
        "    l_caus_seq.append(l)\n",
        "    u_causal_list.append(u_list)\n",
        "    l_causal_list.append(l_list)\n",
        "\n",
        "  ###############\n",
        "  for i in range(hospitals):\n",
        "    u = []\n",
        "    l = []\n",
        "    u_list = []\n",
        "    l_list = []\n",
        "    for j in range(n_arms):\n",
        "      u.append(1)\n",
        "      l.append(0)\n",
        "      u_list.append([1])\n",
        "      l_list.append([0])\n",
        "    ucb.append(u)\n",
        "    lcb.append(l)\n",
        "    ucb_list.append(u_list)\n",
        "    lcb_list.append(l_list)\n",
        "  for i in range(hospitals):\n",
        "    u = []\n",
        "    l = []\n",
        "    for j in range(n_arms):\n",
        "      u.append(1)\n",
        "      l.append(0)\n",
        "    u_causal.append(u)\n",
        "    l_causal.append(l)\n",
        "    regret.append([])\n",
        "  for i in range(hospitals):\n",
        "    l = []\n",
        "    for j in range(n_arms):\n",
        "      l.append(0)\n",
        "    r.append(l)\n",
        "  for i in range(hospitals):\n",
        "    l = []\n",
        "    for j in range(n_arms):\n",
        "      l.append(0)\n",
        "    N.append(l)\n",
        "    t.append(0)\n",
        "  for i in range(hospitals):\n",
        "    l = []\n",
        "    for j in range(n_arms):\n",
        "      l.append(0)\n",
        "    index.append(l)\n",
        "    reg.append(0)\n",
        "  for time in range(timesteps):\n",
        "    clus = []\n",
        "    for i in range(hospitals):\n",
        "      clus.append(np.random.choice([1, 0], p = [pi[i], 1-pi[i]]))\n",
        "    if time ==  0:\n",
        "      ucb, lcb = new_ucb(r, N, t, c)\n",
        "    for i in range(hospitals):\n",
        "      for j in range(n_arms):\n",
        "        ucb_list[i][j].append(ucb[i][j])\n",
        "        lcb_list[i][j].append(lcb[i][j])\n",
        "    if bool_causal:\n",
        "      for i in range(hospitals):\n",
        "        for j in range(n_arms):\n",
        "          u_causal_list[i][j].append(u_causal[i][j])\n",
        "          l_causal_list[i][j].append(l_causal[i][j])\n",
        "    #print(ucb)\n",
        "    for i in range(hospitals):\n",
        "      if clus[i] == 1:\n",
        "        if bool_causal:\n",
        "          u_bound = [min(ucb[i][j], u_causal[i][j]) for j in range(n_arms)]\n",
        "        else:\n",
        "          u_bound = ucb[i]\n",
        "        #arm = np.argmax(u_bound)\n",
        "        ax = np.array(u_bound)\n",
        "        arm = np.random.choice(np.where(ax == ax.max())[0])\n",
        "        ######HERE\n",
        "        if time < 1000:\n",
        "          flag = np.random.choice([1, 0], p = [prob_explore, 1- prob_explore])\n",
        "          if flag == 1:\n",
        "            ##CHANGE WITH ARMS\n",
        "            arm = np.random.choice([0, 1, 2])\n",
        "            #arm = np.random.choice([0, 1])\n",
        "        #if time % 1000 == 0 and i == 1:\n",
        "        #  print(ucb[i])\n",
        "        times[i] += 1\n",
        "        if arm == np.argmax(rewards[i]):\n",
        "          succ[i] += 1\n",
        "        success[i].append(succ[i]/times[i])\n",
        "        N[i][arm] += 1\n",
        "        t[i] += 1\n",
        "        prob = rewards[i][arm]\n",
        "        #print(index)\n",
        "        r[i][arm] += responses[i][arm][index[i][arm]]\n",
        "        index[i][arm] += 1\n",
        "        reg[i] += np.max(rewards[i]) - prob\n",
        "        regret[i].append(reg[i])\n",
        "        arm_now = np.argmax(rewards[i])\n",
        "        if N[i][arm_now] != 0:\n",
        "          estimated_reward[i].append(r[i][arm_now]/N[i][arm_now])\n",
        "        else:\n",
        "          estimated_reward[i].append(0)\n",
        "###########################################\n",
        "###########################################\n",
        "    if time %100 == 0 and time != 0:\n",
        "      prob_explore /= 1.5\n",
        "    if bool_causal:\n",
        "      ucb, lcb, r_h, n_h, t_h = server(r, N, t, c, epsilon)\n",
        "      flag = True\n",
        "      for i in range(hospitals):\n",
        "        if t[i] == 0:\n",
        "          flag = False\n",
        "          break\n",
        "      if np.sum(np.array(t)) % 100 == 0 and flag:\n",
        "        bounds = []\n",
        "        for i in range(hospitals):\n",
        "          b = []\n",
        "          for j in range(n_arms):\n",
        "            b.append(min(u_causal[i][j], ucb[i][j]))\n",
        "          bounds.append(b)\n",
        "        u_causal = update_causal(r, N, t, r_h, n_h, t_h, ucb, lcb, c1)\n",
        "        ###################\n",
        "        for i in range(hospitals):\n",
        "          for j in range(n_arms):\n",
        "            u_caus_seq[i][j].append(u_causal[i][j])\n",
        "            l_caus_seq[i][j].append(l_causal[i][j])\n",
        "        #####################\n",
        "    elif not bool_causal:\n",
        "      if bool_adaptive:\n",
        "        ucb, lcb, r_h, n_h, t_h = server(r, N, t, c, epsilon)\n",
        "      else:\n",
        "        ucb, lcb = new_ucb(r, N, t, c)\n",
        "  #print(estimated_reward)\n",
        "  #if bool_causal:\n",
        "  #  print_bounds(rewards, u_caus_seq, l_caus_seq, \"Causal\")\n",
        "  if bool_causal:\n",
        "    return regret, ucb_list, lcb_list, u_causal_list, l_causal_list, estimated_reward, success\n",
        "  else:\n",
        "    return regret, ucb_list, lcb_list, estimated_reward, success"
      ],
      "metadata": {
        "id": "PUwpQX4gjHH9"
      },
      "execution_count": null,
      "outputs": []
    }
  ]
}