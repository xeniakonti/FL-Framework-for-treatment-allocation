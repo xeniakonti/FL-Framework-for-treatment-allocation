{
  "nbformat": 4,
  "nbformat_minor": 0,
  "metadata": {
    "colab": {
      "provenance": []
    },
    "kernelspec": {
      "name": "python3",
      "display_name": "Python 3"
    },
    "language_info": {
      "name": "python"
    }
  },
  "cells": [
    {
      "cell_type": "markdown",
      "source": [
        "#Imports"
      ],
      "metadata": {
        "id": "EOVi4UN1Oahj"
      }
    },
    {
      "cell_type": "code",
      "execution_count": null,
      "metadata": {
        "id": "gikxLCNqN3Qp"
      },
      "outputs": [],
      "source": [
        "import numpy as np\n",
        "import math\n",
        "from scipy.optimize import linprog\n",
        "import random\n",
        "import matplotlib.pyplot as plt"
      ]
    },
    {
      "cell_type": "code",
      "source": [
        "n_arms = 3\n",
        "#n_arms = 2\n",
        "#hospitals = 3\n",
        "hospitals = 5"
      ],
      "metadata": {
        "id": "6V5ALcGJOexu"
      },
      "execution_count": null,
      "outputs": []
    },
    {
      "cell_type": "markdown",
      "source": [
        "#Update UCB"
      ],
      "metadata": {
        "id": "0XPMXboyOiIF"
      }
    },
    {
      "cell_type": "code",
      "source": [
        "def new_ucb(r, N, t, c):\n",
        "  ucb = []\n",
        "  lcb = []\n",
        "  for i in range(n_arms):\n",
        "    if N[i] == 0:\n",
        "      ucb.append(1)\n",
        "      lcb.append(0)\n",
        "    else:\n",
        "      ucb.append(np.min([r[i]/N[i] + c*math.sqrt(math.log(t)/N[i]), 1]))\n",
        "      lcb.append(np.max([r[i]/N[i] - c*math.sqrt(math.log(t)/N[i]), 0]))\n",
        "      #ucb.append(np.min([r[i]/N[i] + 0.8*math.sqrt(math.log(t)/N[i]), 1]))\n",
        "      #lcb.append(np.max([r[i]/N[i] - 0.8*math.sqrt(math.log(t)/N[i]), 0]))\n",
        "  return ucb, lcb"
      ],
      "metadata": {
        "id": "tU1PGBcYOh0X"
      },
      "execution_count": null,
      "outputs": []
    },
    {
      "cell_type": "markdown",
      "source": [
        "#Train Function"
      ],
      "metadata": {
        "id": "Y9crS5VERcGN"
      }
    },
    {
      "cell_type": "code",
      "source": [
        "def train_random(pi, responses, rewards, timestep):\n",
        "  succ = []\n",
        "  estimated_reward = []\n",
        "  success = []\n",
        "  times = []\n",
        "  for i in range(hospitals):\n",
        "    estimated_reward.append([])\n",
        "    success.append([])\n",
        "    succ.append(0)\n",
        "    times.append(0)\n",
        "  regret = []\n",
        "  r = []\n",
        "  N = []\n",
        "  index = []\n",
        "  reg = []\n",
        "  for i in range(hospitals):\n",
        "    regret.append([])\n",
        "  #for i in range(n_arms):\n",
        "  #  r.append(0)\n",
        "  #for i in range(n_arms):\n",
        "  #  N.append(0)\n",
        "  for i in range(hospitals):\n",
        "    l = []\n",
        "    lr = []\n",
        "    ln = []\n",
        "    for j in range(n_arms):\n",
        "      l.append(0)\n",
        "      lr.append(0)\n",
        "      ln.append(0)\n",
        "    index.append(l)\n",
        "    r.append(lr)\n",
        "    N.append(ln)\n",
        "    reg.append(0)\n",
        "  #############################\n",
        "  for time in range(timestep):\n",
        "    clus = []\n",
        "    for i in range(hospitals):\n",
        "      clus.append(np.random.choice([1, 0], p = [pi[i], 1-pi[i]]))\n",
        "    for i in range(hospitals):\n",
        "      if clus[i] == 1:\n",
        "        arm = np.random.choice([0, 1, 2])\n",
        "        #arm = np.random.choice([0, 1])\n",
        "        times[i] += 1\n",
        "        if arm == np.argmax(rewards[i]):\n",
        "          succ[i] += 1\n",
        "        success[i].append(succ[i]/times[i])\n",
        "        N[i][arm] += 1\n",
        "        prob = rewards[i][arm]\n",
        "        #print(index)\n",
        "        r[i][arm] += responses[i][arm][index[i][arm]]\n",
        "        index[i][arm] += 1\n",
        "        reg[i] += np.max(rewards[i]) - prob\n",
        "        regret[i].append(reg[i])\n",
        "        arm_now = np.argmax(rewards[i])\n",
        "        if N[i][arm_now] != 0:\n",
        "          estimated_reward[i].append(r[i][arm_now]/N[i][arm_now])\n",
        "        else:\n",
        "          estimated_reward[i].append(0)\n",
        "  return regret, estimated_reward, success"
      ],
      "metadata": {
        "id": "OzgfilSifROA"
      },
      "execution_count": null,
      "outputs": []
    },
    {
      "cell_type": "code",
      "source": [
        "def train_all(pi, responses, rewards, timesteps, bool_causal):\n",
        "  prob_explore = 0.5\n",
        "  succ = []\n",
        "  estimated_reward = []\n",
        "  success = []\n",
        "  times = []\n",
        "  for i in range(hospitals):\n",
        "    estimated_reward.append([])\n",
        "    success.append([])\n",
        "    succ.append(0)\n",
        "    times.append(0)\n",
        "  ucb = []\n",
        "  lcb = []\n",
        "  ############\n",
        "  regret = []\n",
        "  r = []\n",
        "  N = []\n",
        "  Ni = []\n",
        "  ri = []\n",
        "  t = 0\n",
        "  index = []\n",
        "  reg = []\n",
        "  #########################\n",
        "  for j in range(n_arms):\n",
        "    ucb.append(1)\n",
        "    lcb.append(0)\n",
        "  for i in range(hospitals):\n",
        "    regret.append([])\n",
        "  for i in range(n_arms):\n",
        "    r.append(0)\n",
        "  for i in range(n_arms):\n",
        "    N.append(0)\n",
        "  for i in range(hospitals):\n",
        "    l = []\n",
        "    lr = []\n",
        "    ln = []\n",
        "    for j in range(n_arms):\n",
        "      l.append(0)\n",
        "      lr.append(0)\n",
        "      ln.append(0)\n",
        "    index.append(l)\n",
        "    ri.append(lr)\n",
        "    Ni.append(ln)\n",
        "    reg.append(0)\n",
        "  ######################\n",
        "  for time in range(timesteps):\n",
        "    clus = []\n",
        "    for i in range(hospitals):\n",
        "      clus.append(np.random.choice([1, 0], p = [pi[i], 1-pi[i]]))\n",
        "    if t%100 == 0:\n",
        "      ucb, lcb = new_ucb(r, N, t, 0.8)\n",
        "    for i in range(hospitals):\n",
        "      if clus[i] == 1:\n",
        "        arm = np.random.choice(np.where(ucb == np.max(ucb))[0])\n",
        "        ######HERE\n",
        "        if time < 100:\n",
        "          flag = np.random.choice([1, 0], p = [prob_explore, 1- prob_explore])\n",
        "          if flag == 1:\n",
        "            ##CHANGE WITH ARMS\n",
        "            arm = np.random.choice([0, 1, 2])\n",
        "            #arm = np.random.choice([0, 1])\n",
        "        times[i] += 1\n",
        "        if arm == np.argmax(rewards[i]):\n",
        "          succ[i] += 1\n",
        "        success[i].append(succ[i]/times[i])\n",
        "        N[arm] += 1\n",
        "        Ni[i][arm] += 1\n",
        "        t += 1\n",
        "        prob = rewards[i][arm]\n",
        "        #print(index)\n",
        "        r[arm] += responses[i][arm][index[i][arm]]\n",
        "        ri[i][arm] += responses[i][arm][index[i][arm]]\n",
        "        index[i][arm] += 1\n",
        "        reg[i] += np.max(rewards[i]) - prob\n",
        "        regret[i].append(reg[i])\n",
        "        arm_now = np.argmax(rewards[i])\n",
        "        if Ni[i][arm_now] != 0:\n",
        "          estimated_reward[i].append(ri[i][arm_now]/Ni[i][arm_now])\n",
        "        else:\n",
        "          estimated_reward[i].append(0)\n",
        "###########################################\n",
        "###########################################\n",
        "    if time %100 == 0 and time != 0:\n",
        "      prob_explore /= 1.1\n",
        "  return regret, estimated_reward, success"
      ],
      "metadata": {
        "id": "BGTiiwVXRaub"
      },
      "execution_count": null,
      "outputs": []
    }
  ]
}